{
 "cells": [
  {
   "cell_type": "markdown",
   "id": "3b9a6445",
   "metadata": {},
   "source": [
    "# Running the ETC Estimator for NIRPS along with HARPS"
   ]
  },
  {
   "cell_type": "markdown",
   "id": "1a86b1eb",
   "metadata": {},
   "source": [
    "#### Just run the line below to complete the simulation."
   ]
  },
  {
   "cell_type": "code",
   "execution_count": null,
   "id": "4a3e2ce5",
   "metadata": {},
   "outputs": [],
   "source": [
    "run ETC_HARPS_NIRPS.py"
   ]
  }
 ],
 "metadata": {
  "kernelspec": {
   "display_name": "Python 3 (ipykernel)",
   "language": "python",
   "name": "python3"
  },
  "language_info": {
   "codemirror_mode": {
    "name": "ipython",
    "version": 3
   },
   "file_extension": ".py",
   "mimetype": "text/x-python",
   "name": "python",
   "nbconvert_exporter": "python",
   "pygments_lexer": "ipython3",
   "version": "3.11.5"
  }
 },
 "nbformat": 4,
 "nbformat_minor": 5
}
